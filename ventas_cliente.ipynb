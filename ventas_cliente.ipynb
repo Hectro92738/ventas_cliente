{
 "cells": [
  {
   "cell_type": "code",
   "execution_count": 1,
   "id": "15857ea6-5796-4110-8eb9-59a791ecdab8",
   "metadata": {},
   "outputs": [
    {
     "name": "stdout",
     "output_type": "stream",
     "text": [
      "   ID_venta  ID_cliente  ID_sucursal  ID_vehiculo  ID_fecha  ID_metodopago  \\\n",
      "0         1        73.0          NaN        714.0     387.0          844.0   \n",
      "1         2        17.0         29.0        472.0     572.0           58.0   \n",
      "2         3        69.0         14.0        879.0     150.0          840.0   \n",
      "3         4        94.0          0.0        371.0     889.0          331.0   \n",
      "4         5        92.0          7.0        939.0     599.0          991.0   \n",
      "\n",
      "   ID_empleado  monto_alquiler  cantidad_alquiler  \n",
      "0        237.0         12798.0               14.0  \n",
      "1        988.0         19787.0               60.0  \n",
      "2        994.0         19038.0               29.0  \n",
      "3        510.0         10718.0               96.0  \n",
      "4        951.0             NaN               51.0  \n"
     ]
    }
   ],
   "source": [
    "import pandas as pd\n",
    "\n",
    "# Cargar el archivo CSV con los nombres de columnas especificados\n",
    "data = pd.read_csv(r'C:\\Users\\52441\\ventas_cliente.csv')\n",
    "\n",
    "# Revisar las primeras filas\n",
    "print(data.head())\n"
   ]
  },
  {
   "cell_type": "code",
   "execution_count": 2,
   "id": "661fe5f4-b3e9-4c0a-8078-4252a77627d7",
   "metadata": {},
   "outputs": [
    {
     "name": "stdout",
     "output_type": "stream",
     "text": [
      "Duplicados antes de la limpieza: 0\n",
      "Duplicados después de la limpieza: 0\n"
     ]
    }
   ],
   "source": [
    "# Contar duplicados\n",
    "duplicados = data.duplicated().sum()\n",
    "print(f\"Duplicados antes de la limpieza: {duplicados}\")\n",
    "\n",
    "# Eliminar duplicados\n",
    "data_sin_duplicados = data.drop_duplicates()\n",
    "\n",
    "# Contar duplicados después de la limpieza\n",
    "duplicados = data_sin_duplicados.duplicated().sum()\n",
    "print(f\"Duplicados después de la limpieza: {duplicados}\")\n"
   ]
  },
  {
   "cell_type": "code",
   "execution_count": 3,
   "id": "5d8f0ff0-a31c-4426-98df-bf86cd9ddb00",
   "metadata": {},
   "outputs": [
    {
     "name": "stdout",
     "output_type": "stream",
     "text": [
      "Valores faltantes:\n",
      "ID_venta               0\n",
      "ID_cliente           116\n",
      "ID_sucursal           99\n",
      "ID_vehiculo          108\n",
      "ID_fecha             109\n",
      "ID_metodopago        109\n",
      "ID_empleado          105\n",
      "monto_alquiler       103\n",
      "cantidad_alquiler     96\n",
      "dtype: int64\n",
      "ID_venta             0\n",
      "ID_cliente           0\n",
      "ID_sucursal          0\n",
      "ID_vehiculo          0\n",
      "ID_fecha             0\n",
      "ID_metodopago        0\n",
      "ID_empleado          0\n",
      "monto_alquiler       0\n",
      "cantidad_alquiler    0\n",
      "dtype: int64\n"
     ]
    }
   ],
   "source": [
    "# Verificar valores faltantes\n",
    "valores_faltantes = data_sin_duplicados.isnull().sum()\n",
    "print(f\"Valores faltantes:\\n{valores_faltantes}\")\n",
    "\n",
    "# Reemplazar valores faltantes de monto_alquiler y cantidad_alquiler con 0, y otros con 'Desconocido'\n",
    "data_imputada = data_sin_duplicados.fillna({\n",
    "    'monto_alquiler': 0,\n",
    "    'cantidad_alquiler': 0,\n",
    "    'ID_cliente': 'Desconocido',\n",
    "    'ID_sucursal': 'Desconocido',\n",
    "    'ID_vehiculo': 'Desconocido',\n",
    "    'ID_metodopago': 'Desconocido',\n",
    "    'ID_empleado': 'Desconocido',\n",
    "    'ID_fecha': 'Desconocido'\n",
    "})\n",
    "\n",
    "print(data_imputada.isnull().sum())  # Verificar si aún hay valores faltantes\n"
   ]
  },
  {
   "cell_type": "code",
   "execution_count": 4,
   "id": "68ec6dbc-f224-45dd-a3ff-797736400291",
   "metadata": {},
   "outputs": [
    {
     "name": "stdout",
     "output_type": "stream",
     "text": [
      "Registros después de la validación: 1000\n"
     ]
    }
   ],
   "source": [
    "# Convertir 'monto_aquiler' y 'cantidad_alquiler' a valores numéricos\n",
    "data_imputada['monto_alquiler'] = pd.to_numeric(data_imputada['monto_alquiler'], errors='coerce')\n",
    "data_imputada['cantidad_alquiler'] = pd.to_numeric(data_imputada['cantidad_alquiler'], errors='coerce')\n",
    "\n",
    "# Validar que los valores no sean negativos\n",
    "data_validada = data_imputada[(data_imputada['monto_alquiler'] >= 0) & (data_imputada['cantidad_alquiler'] >= 0)]\n",
    "\n",
    "print(f\"Registros después de la validación: {len(data_validada)}\")\n"
   ]
  },
  {
   "cell_type": "code",
   "execution_count": null,
   "id": "762691a4-91dc-471f-b833-7414e003bd26",
   "metadata": {},
   "outputs": [],
   "source": [
    "# Filtrar filas donde 'ID_cliente' no sea \"Desconocido\"\n",
    "data_validada_filtrada = data_validada[data_validada['ID_cliente'] != 'Desconocido']\n",
    "\n",
    "# Agrupar por vehículo y sumar el monto total de alquiler y cantidad total alquilada\n",
    "ventas_por_cliente = data_validada_filtrada.groupby('id_cliente').agg({\n",
    "    'monto_aquiler': 'sum',\n",
    "    'cantidad_alquiler': 'sum'\n",
    "}).reset_index()\n",
    "\n",
    "# Ordenar por el monto total de alquiler de mayor a menor\n",
    "ventas_por_cliente = ventas_por_cliente.sort_values(by='monto_aquiler', ascending=False)\n",
    "\n",
    "# Guardar el resultado en un archivo CSV\n",
    "ventas_por_cliente.to_csv('ventas_por_cliente.csv', index=False)\n",
    "\n",
    "print(\"Datos de ventas por clientes guardados en 'ventas_por_cliente.csv'\")\n",
    "\n"
   ]
  },
  {
   "cell_type": "code",
   "execution_count": null,
   "id": "3fb8c1c3-636e-45a0-a8ce-cc6536aa0fdd",
   "metadata": {},
   "outputs": [],
   "source": []
  },
  {
   "cell_type": "code",
   "execution_count": null,
   "id": "e2f58518-b1dc-4d7b-9e54-b235e5b3edde",
   "metadata": {},
   "outputs": [],
   "source": []
  }
 ],
 "metadata": {
  "kernelspec": {
   "display_name": "Python 3 (ipykernel)",
   "language": "python",
   "name": "python3"
  },
  "language_info": {
   "codemirror_mode": {
    "name": "ipython",
    "version": 3
   },
   "file_extension": ".py",
   "mimetype": "text/x-python",
   "name": "python",
   "nbconvert_exporter": "python",
   "pygments_lexer": "ipython3",
   "version": "3.12.1"
  }
 },
 "nbformat": 4,
 "nbformat_minor": 5
}
